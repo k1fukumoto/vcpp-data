{
 "cells": [
  {
   "cell_type": "markdown",
   "metadata": {},
   "source": [
    "### Preparation - Review raw usage data"
   ]
  },
  {
   "cell_type": "code",
   "execution_count": null,
   "metadata": {},
   "outputs": [],
   "source": [
    "%reload_ext autoreload\n",
    "%autoreload 2\n",
    "\n",
    "import pandas as pd\n",
    "from matplotlib import pyplot as plt\n",
    "import datetime\n",
    "import numpy as np\n",
    "from plot_helper import *\n",
    "\n",
    "CSV_FILE = '../data/GlobalUsageReport.csv'\n",
    "\n",
    "try:\n",
    "    df_raw\n",
    "except NameError:\n",
    "    df_raw = pd.read_csv(CSV_FILE,encoding=\"ISO-8859-1\",parse_dates=['Usage Period'])\n",
    "\n",
    "df_raw.groupby('Usage Period')['Value (USD)'].sum().plot()\n",
    "format_trend_chart()\n",
    "plt.show()\n",
    "\n"
   ]
  },
  {
   "cell_type": "markdown",
   "metadata": {},
   "source": [
    "### Preparation - Configure QUARTER_RANGE in defines.py"
   ]
  },
  {
   "cell_type": "code",
   "execution_count": null,
   "metadata": {},
   "outputs": [],
   "source": [
    "from defines import *\n",
    "\n",
    "df = df_raw[(df_raw['Usage Period']<=LAST_QUARTER[2]) & (df_raw['Usage Period']>=PREV_QUARTER[0])]\n",
    "df.groupby('Usage Period')['Value (USD)'].sum().plot()\n",
    "format_trend_chart()\n",
    "plt.title(\"Data Range, {} ~ {}\".format(QUARTER_RANGE[0][0],QUARTER_RANGE[1][1]))\n",
    "plt.show()\n",
    "\n"
   ]
  },
  {
   "cell_type": "markdown",
   "metadata": {},
   "source": [
    "### Total VCPP Revenue & Parnter Cound Trend"
   ]
  },
  {
   "cell_type": "code",
   "execution_count": null,
   "metadata": {},
   "outputs": [],
   "source": [
    "from functools import reduce\n",
    "\n",
    "plt.close()\n",
    "fig,ax1 = plt.subplots()\n",
    "ax2 = ax1.twinx()\n",
    "\n",
    "rev = df.groupby('Usage Period')['Value (USD)'].sum()\n",
    "ax1.bar(rev.index,rev.values,10,label='Total Revenue')\n",
    "\n",
    "cnt = df.groupby('Usage Period')['Service Provider'].unique()\n",
    "pcnts = list(map(lambda x: len(x), cnt.values))\n",
    "ax2.plot(cnt.index,pcnts,'o-',c='tomato',label='Partner Count')\n",
    "ax2.set_ylim(bottom=3500,top=3500*rev.values.max()/rev.values.min())\n",
    "ax2.set_ylabel('vCAN Partner Count')\n",
    "ax2.legend(loc=\"lower right\", bbox_to_anchor=(1,0.1))\n",
    "    \n",
    "x0=len(cnt.loc[PREV_QUARTER[2]])\n",
    "x1=len(cnt.loc[LAST_QUARTER[2]])\n",
    "print(\"YoY Partner Count Growth: +{:.0f}%\".format((x1/x0-1)*100))\n",
    "\n",
    "x0=reduce(lambda x,y:x+y,map(lambda x: rev.loc[x],PREV_QUARTER))\n",
    "x1=reduce(lambda x,y:x+y,map(lambda x: rev.loc[x],LAST_QUARTER))\n",
    "print(\"YoY Revenue Growth: +{:.0f}%\".format((x1/x0-1)*100))\n",
    "\n",
    "ax1.yaxis.grid(which=\"major\", color='black', linestyle='dashed', linewidth=.3)\n",
    "ax1.set_yticklabels(['${:,.0f}K'.format(x/1000) for x in ax1.get_yticks()])\n",
    "ax1.set_ylabel('vCAN Total MRR')\n",
    "ax1.legend(loc=\"lower right\", bbox_to_anchor=(1,0))\n",
    "\n",
    "fig = plt.gcf()\n",
    "fig.autofmt_xdate() \n",
    "plt.title(\"vCAN Business Trend\")\n",
    "fig.set_size_inches(10,6)\n",
    "plt.show()"
   ]
  },
  {
   "cell_type": "markdown",
   "metadata": {},
   "source": [
    "### Showcase Partner Monthly Revenue Trend"
   ]
  },
  {
   "cell_type": "code",
   "execution_count": null,
   "metadata": {},
   "outputs": [],
   "source": [
    "showcase_partners = df[(df['Usage Period'] == LAST_QUARTER[2]) &\n",
    "                       (df['Partner Status'] == 'Showcase')].groupby('Partner Group Name')['Value (USD)'].sum().sort_values(ascending=False).index\n",
    "\n",
    "for partner in showcase_partners:\n",
    "    partner_rev = df[df['Partner Group Name'] == partner].groupby('Usage Period')['Value (USD)'].sum()\n",
    "    plt.plot(partner_rev.index,partner_rev.values,'o-',label=partner)\n",
    "\n",
    "format_trend_chart()\n",
    "\n",
    "plt.title(\"Showcase Partners Monthly Revenue Trend\")\n",
    "plt.show()"
   ]
  },
  {
   "cell_type": "markdown",
   "metadata": {},
   "source": [
    "### Showcase Partner Growth Trend"
   ]
  },
  {
   "cell_type": "code",
   "execution_count": null,
   "metadata": {},
   "outputs": [],
   "source": [
    "def plot_rev_trend(data,lbl):\n",
    "#    plt.plot(data.index,(data.values/data.values[0]-1)*100,'o-',label=lbl,linewidth=5.0,markersize=9.0)\n",
    "    plt.plot(data.index,(data.values/data.values[0]-1)*100,'o-',label=lbl)\n",
    "        \n",
    "for d in [\n",
    "            [df.groupby('Usage Period')['Value (USD)'].sum(),'vCAN Total'],\n",
    "            [df[df['Partner Status']=='Showcase'].groupby('Usage Period')['Value (USD)'].sum(),'Showcase Total'],\n",
    "            [df[df['Partner Group Name']=='Fujitsu'].groupby('Usage Period')['Value (USD)'].sum(),'Fujitsu Group Total'],\n",
    "            [df[df['Partner Group Name']=='NTT'].groupby('Usage Period')['Value (USD)'].sum(),'NTT Group Total']\n",
    "        ]:\n",
    "    plot_rev_trend(d[0],d[1])\n",
    " \n",
    "ax = format_trend_chart()\n",
    "ax.set_yticklabels(['+{:,.0f}%'.format(x) for x in ax.get_yticks()])\n",
    " #   ax.legend(loc=\"lower right\", bbox_to_anchor=(1,0))\n",
    "plt.show()\n"
   ]
  },
  {
   "cell_type": "markdown",
   "metadata": {},
   "source": [
    "### VCPP Partners Revenue Distribution"
   ]
  },
  {
   "cell_type": "code",
   "execution_count": null,
   "metadata": {},
   "outputs": [],
   "source": [
    "def plot_hist(data_prev,data_last,cutoff,title):\n",
    "    plt.hist(data_last[:int(len(data_last)*cutoff)],bins=100,alpha=.8,label='2017 Q1')\n",
    "    plt.hist(data_prev[:int(len(data_last)*cutoff)],bins=100,alpha=.8,label='2016 Q1')\n",
    "\n",
    "    plt.xlabel(\"Quarterly Revenue (USD)\")\n",
    "    plt.ylabel(\"Number of Service Providers\")\n",
    "    plt.title(title)\n",
    "    ax = plt.gca()\n",
    "    fig = plt.gcf()\n",
    "    ax.set_xticklabels(['${:,.0f}K'.format(x/1000) for x in ax.get_xticks()])\n",
    "    ax.legend(loc=\"upper right\")\n",
    "    fig.set_size_inches(10,6)\n",
    "    plt.show()\n",
    "    \n",
    "df_last_q = df[(df['Usage Period'] >= LAST_QUARTER[0]) & (df['Usage Period'] <= LAST_QUARTER[2])]\n",
    "df_prev_q = df[(df['Usage Period'] >= PREV_QUARTER[0]) & (df['Usage Period'] <= PREV_QUARTER[2])]\n",
    "data_last = df_last_q.groupby('Service Provider')['Value (USD)'].sum().sort_values(ascending=False)\n",
    "data_prev = df_prev_q.groupby('Service Provider')['Value (USD)'].sum().sort_values(ascending=False)\n",
    "    \n",
    "plot_hist(data_prev,data_last,1.0,\"Revenue Distribution - All SPs\")\n",
    "plot_hist(data_prev,data_last,0.1,\"Revenue Distribution - Top 10% SPs\")\n",
    "    \n",
    "total_last = df_last_q['Value (USD)'].sum()\n",
    "print(\"Total SP Count: {}\".format(len(data_last)))\n",
    "print(\"Top {} SPs Contribution: {:.0f}%\".format(10,data_last[:10].sum()/total_last*100))\n",
    "    \n",
    "plt.pie(data_last.values,startangle=90,counterclock=False)\n",
    "plt.title('Revenue Distribution')\n",
    "plt.gcf().set_size_inches(3,3)\n",
    "plt.show()\n"
   ]
  },
  {
   "cell_type": "markdown",
   "metadata": {},
   "source": [
    "### Showcase Partner Group Companies Revenue Trend"
   ]
  },
  {
   "cell_type": "code",
   "execution_count": null,
   "metadata": {},
   "outputs": [],
   "source": [
    "def partner_rev_trend(group):\n",
    "    # sort by revenue size at the last month\n",
    "    df_lm = df[df['Usage Period'] == LAST_QUARTER[2]]\n",
    "\n",
    "    s_sp = df_lm[df_lm['Partner Group Name'] == group].groupby('Service Provider')['Value (USD)'].sum().sort_values(ascending=False)\n",
    "\n",
    "    for sp in s_sp.index:\n",
    "        s_sprev = df[df['Service Provider'] == sp].groupby('Usage Period')['Value (USD)'].sum()\n",
    "    \n",
    "        # populate 0s for all months to capture no-report months\n",
    "#        for i in up_index:\n",
    "#            if not i in partner_rev.keys():\n",
    "#                partner_rev.set_value(i,0.0)\n",
    "#                data = partner_rev.sort_index()\n",
    "    \n",
    "        plt.plot(s_sprev.index,s_sprev.values,'o-',label=sp)\n",
    "\n",
    "    format_trend_chart()\n",
    "\n",
    "    plt.title('{} Group Revenue Trend Chart'.format(group))\n",
    "    plt.show()\n",
    "    \n",
    "partner_rev_trend('NTT')\n",
    "partner_rev_trend('Fujitsu')\n"
   ]
  },
  {
   "cell_type": "markdown",
   "metadata": {},
   "source": [
    "### Revenue Size vs Growth"
   ]
  },
  {
   "cell_type": "code",
   "execution_count": null,
   "metadata": {},
   "outputs": [],
   "source": [
    "import size_vs_growth as sg\n",
    "\n",
    "sg.plot(df,\n",
    "     {'type':['GEO','RANK'],\n",
    "      'time_frame': 'LAST_12',\n",
    "      'min_rev_growth':10000,\n",
    "      'show_sp_name':500000})\n",
    "    \n",
    "sg.plot(df[(df['Country']=='Japan')],\n",
    "    {'type':['NO_SLICE'],\n",
    "     'time_frame': 'LAST_12',     \n",
    "     'min_rev_growth':10000,\n",
    "    'show_sp_name':100000})"
   ]
  }
 ],
 "metadata": {
  "kernelspec": {
   "display_name": "Python [default]",
   "language": "python",
   "name": "python3"
  },
  "language_info": {
   "codemirror_mode": {
    "name": "ipython",
    "version": 3
   },
   "file_extension": ".py",
   "mimetype": "text/x-python",
   "name": "python",
   "nbconvert_exporter": "python",
   "pygments_lexer": "ipython3",
   "version": "3.6.1"
  }
 },
 "nbformat": 4,
 "nbformat_minor": 2
}
