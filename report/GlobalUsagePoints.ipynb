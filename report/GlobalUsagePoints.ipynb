{
 "cells": [
  {
   "cell_type": "markdown",
   "metadata": {},
   "source": [
    "### Preparation - Review raw usage data"
   ]
  },
  {
   "cell_type": "code",
   "execution_count": null,
   "metadata": {},
   "outputs": [],
   "source": [
    "# del df_raw"
   ]
  },
  {
   "cell_type": "code",
   "execution_count": null,
   "metadata": {
    "scrolled": true
   },
   "outputs": [],
   "source": [
    "%reload_ext autoreload\n",
    "%autoreload 2\n",
    "\n",
    "import pandas as pd\n",
    "from matplotlib import pyplot as plt\n",
    "import datetime\n",
    "import numpy as np\n",
    "from plot_helper import *\n",
    "\n",
    "CSV_FILE = '../data/GlobalUsageReport.csv'\n",
    "\n",
    "try:\n",
    "    df_raw\n",
    "except NameError:\n",
    "    df_raw = pd.read_csv(CSV_FILE,encoding=\"ISO-8859-1\",parse_dates=['Usage Period'])\n",
    "\n",
    "df_raw.groupby('Usage Period')['Value (USD)'].sum().plot()\n",
    "format_trend_chart()\n",
    "plt.show()\n",
    "\n",
    "df_raw.groupby('Usage Period')['Usage Points'].sum().plot()\n",
    "format_trend_chart()\n",
    "plt.show()\n",
    "\n",
    "df_rental = df_raw[(df_raw['Product Family'] == 'Rental') &\n",
    "                   ((df_raw['Collection Status'] == 'Closed') |\n",
    "                    (df_raw['Collection Status'] == 'Pending Agg') |\n",
    "                    (df_raw['Collection Status'] == 'Pending Vendor')                    \n",
    "                   )]\n",
    "\n",
    "df_rental.groupby('Usage Period')['Usage Points'].sum().plot()\n",
    "format_trend_chart()\n",
    "plt.show()\n",
    "\n",
    "print(df_raw.columns)\n"
   ]
  },
  {
   "cell_type": "markdown",
   "metadata": {},
   "source": [
    "### Preparation - Configure QUARTER_RANGE in defines.py"
   ]
  },
  {
   "cell_type": "code",
   "execution_count": null,
   "metadata": {},
   "outputs": [],
   "source": [
    "from defines import *\n",
    "\n",
    "\n",
    "df = df_rental[(df_rental['Usage Period']<=END_MONTH) & \n",
    "               (df_rental['Usage Period']>=START_MONTH)]\n",
    "\n",
    "df.groupby('Usage Period')['Value (USD)'].sum().plot()\n",
    "format_trend_chart()\n",
    "plt.title(\"Data Range, {} ~ {}\".format(START_MONTH,END_MONTH))\n",
    "plt.show()\n",
    "\n"
   ]
  },
  {
   "cell_type": "markdown",
   "metadata": {},
   "source": [
    "### Total VCPP Revenue & Parnter Cound Trend"
   ]
  },
  {
   "cell_type": "code",
   "execution_count": null,
   "metadata": {},
   "outputs": [],
   "source": [
    "from functools import reduce\n",
    "\n",
    "plt.close()\n",
    "fig,ax1 = plt.subplots()\n",
    "ax2 = ax1.twinx()\n",
    "\n",
    "rev = df.groupby('Usage Period')['Value (USD)'].sum()\n",
    "ax1.bar(rev.index,rev.values,10,label='Total Revenue')\n",
    "\n",
    "cnt = df.groupby('Usage Period')['Service Provider'].unique()\n",
    "pcnts = list(map(lambda x: len(x), cnt.values))\n",
    "ax2.plot(cnt.index,pcnts,'o-',c='tomato',label='Partner Count')\n",
    "ax2.set_ylim(bottom=3500,top=3500*rev.values.max()/rev.values.min())\n",
    "ax2.set_ylabel('vCAN Partner Count')\n",
    "ax2.legend(loc=\"lower right\", bbox_to_anchor=(1,0.1))\n",
    "    \n",
    "x0=len(cnt.loc[END_MONTH.replace(year=END_MONTH.year-1)])\n",
    "x1=len(cnt.loc[END_MONTH])\n",
    "print(\"YoY Partner Count Growth: +{:.0f}%\".format((x1/x0-1)*100))\n",
    "\n",
    "x0=reduce(lambda x,y:x+y,map(lambda x: rev.loc[x],map(lambda x: x.replace(year=x.year-1),END_QUARTER)))\n",
    "x1=reduce(lambda x,y:x+y,map(lambda x: rev.loc[x],END_QUARTER))\n",
    "VCPP_REV_GROWTH = x1/x0-1 \n",
    "print(\"YoY Quarter Revenue Growth : +{:.0f}%\".format(VCPP_REV_GROWTH*100))\n",
    "\n",
    "ax1.yaxis.grid(which=\"major\", color='black', linestyle='dashed', linewidth=.3)\n",
    "ax1.set_yticklabels(['${:,.0f}K'.format(x/1000) for x in ax1.get_yticks()])\n",
    "ax1.set_ylabel('vCAN Total MRR')\n",
    "ax1.legend(loc=\"lower right\", bbox_to_anchor=(1,0))\n",
    "\n",
    "fig = plt.gcf()\n",
    "fig.autofmt_xdate() \n",
    "plt.title(\"VCPP Revenue & Partner Count\")\n",
    "fig.set_size_inches(10,6)\n",
    "plt.show()"
   ]
  },
  {
   "cell_type": "code",
   "execution_count": null,
   "metadata": {},
   "outputs": [],
   "source": [
    "def plot_dist(d,caption=''):\n",
    "    pp = d['Value (USD)']/d['Usage Points']\n",
    "\n",
    "    pp.plot.hist(bins=10)\n",
    "    plt.minorticks_on()\n",
    "    plt.gca().xaxis.grid(True, which='both',linestyle='dashed')\n",
    "    plt.xlim([0,1.0])\n",
    "    plt.title(\"Point Price Distribution {}(Average={:.2f})\".format(caption,pp.mean()))\n",
    "    plt.show()\n",
    "\n",
    "_df = df[df['Usage Points'] > 0]\n",
    "_df_fujitsu = _df[_df['Partner Group Name']=='Fujitsu'].copy()\n",
    "\n",
    "plot_dist(_df)\n",
    "plot_dist(_df_fujitsu)\n",
    "\n",
    "# NTT point price trend\n",
    "_df_ntt = _df[_df['Service Provider']=='NTT Communications Corporation'].copy()\n",
    "_df_ntt.loc[:,'Point Price'] = pd.Series(_df_ntt['Value (USD)']/_df_ntt['Usage Points'],index=_df_ntt.index)\n",
    "\n",
    "_df_ntt.groupby('Usage Period')['Point Price'].max().plot()\n",
    "plt.ylabel('Point Price')\n",
    "plt.gca().xaxis.grid(True, which='both',linestyle='dashed')\n",
    "plt.show()\n",
    "\n",
    "\n"
   ]
  },
  {
   "cell_type": "code",
   "execution_count": null,
   "metadata": {},
   "outputs": [],
   "source": [
    "d = df[df['Usage Points'] > 0]\n",
    "d = d['Value (USD)']/d['Usage Points']\n",
    "\n",
    "plt.title(\"Point Price Distribution Mean={:.2f}\".format(d.mean()))\n",
    "plt.hist(d,bins=10)\n",
    "plt.show()"
   ]
  },
  {
   "cell_type": "markdown",
   "metadata": {},
   "source": [
    "### Showcase Partner Monthly Revenue Trend"
   ]
  },
  {
   "cell_type": "code",
   "execution_count": null,
   "metadata": {},
   "outputs": [],
   "source": [
    "showcase_partners = df[(df['Usage Period'] == END_MONTH) &\n",
    "                       (df['Partner Status'] == 'Showcase')].groupby('Partner Group Name')['Value (USD)'].sum().sort_values(ascending=False)\n",
    "\n",
    "showcase_partners.plot.pie(startangle=90,counterclock=False)\n",
    "plt.show()\n",
    "\n",
    "for partner in showcase_partners.index:\n",
    "    partner_rev = df[df['Partner Group Name'] == partner].groupby('Usage Period')['Value (USD)'].sum()\n",
    "    plt.plot(partner_rev.index,partner_rev.values,'o-',label=partner)\n",
    "\n",
    "format_trend_chart()\n",
    "\n",
    "plt.title(\"Showcase Partners Monthly Revenue\")\n",
    "plt.gcf().set_size_inches(3,3)\n",
    "plt.show()\n",
    "\n"
   ]
  },
  {
   "cell_type": "markdown",
   "metadata": {},
   "source": [
    "### Showcase Partner Growth Trend"
   ]
  },
  {
   "cell_type": "code",
   "execution_count": null,
   "metadata": {},
   "outputs": [],
   "source": [
    "def plot_rev_trend(l,data,thick=False):\n",
    "    if thick:\n",
    "        plt.plot(data.index,(data.values/data.values[0]-1)*100,'o-',label=l,linewidth=5.0,markersize=9.0)\n",
    "    else:\n",
    "        plt.plot(data.index,(data.values/data.values[0]-1)*100,'o-',label=l)\n",
    "\n",
    "def plot_partner(partner):\n",
    "    plot_rev_trend(partner,df[df['Partner Group Name']==partner].groupby('Usage Period')['Value (USD)'].sum())\n",
    "\n",
    "def format_chart(title):\n",
    "    ax = format_trend_chart()\n",
    "    ax.set_yticklabels(['+{:,.0f}%'.format(x) for x in ax.get_yticks()])\n",
    " #   ax.legend(loc=\"lower right\", bbox_to_anchor=(1,0))\n",
    "    plt.title(title)\n",
    "\n",
    "plot_rev_trend('VCPP Total',df.groupby('Usage Period')['Value (USD)'].sum(),True)\n",
    "plot_rev_trend('Showcase Total',df[df['Partner Status']=='Showcase'].groupby('Usage Period')['Value (USD)'].sum())\n",
    "format_chart('VCPP Total vs Showcase')\n",
    "plt.show()\n",
    "\n",
    "for sp in showcase_partners.index:\n",
    "    plot_partner(sp)\n",
    " \n",
    "format_chart(\"Showcase Partners Monthly Revenue Growth\")\n",
    "plt.show()\n"
   ]
  },
  {
   "cell_type": "code",
   "execution_count": null,
   "metadata": {},
   "outputs": [],
   "source": [
    "import size_vs_growth as sg\n",
    "    \n",
    "sg.plot(df[(df['Partner Status']=='Showcase')],\n",
    "    {'type':['NO_SLICE'],\n",
    "     'min_rev_growth':10000,\n",
    "    'show_sp_name':0},group_key='Partner Group Name')"
   ]
  },
  {
   "cell_type": "markdown",
   "metadata": {},
   "source": [
    "### VCPP Partners Revenue Distribution"
   ]
  },
  {
   "cell_type": "code",
   "execution_count": null,
   "metadata": {},
   "outputs": [],
   "source": [
    "def plot_hist(data_prev,data_last,cutoff,title):\n",
    "    plt.hist(data_last[:int(len(data_last)*cutoff)],bins=100,alpha=.8,label='2017 Q1')\n",
    "    plt.hist(data_prev[:int(len(data_last)*cutoff)],bins=100,alpha=.8,label='2016 Q1')\n",
    "\n",
    "    plt.xlabel(\"Quarterly Revenue (USD)\")\n",
    "    plt.ylabel(\"Number of Service Providers\")\n",
    "    plt.title(title)\n",
    "    ax = plt.gca()\n",
    "    fig = plt.gcf()\n",
    "    ax.set_xticklabels(['${:,.0f}K'.format(x/1000) for x in ax.get_xticks()])\n",
    "    ax.legend(loc=\"upper right\")\n",
    "    fig.set_size_inches(10,6)\n",
    "    plt.show()\n",
    "    \n",
    "df_last_q = df[(df['Usage Period'] >= LAST_QUARTER[0]) & (df['Usage Period'] <= LAST_QUARTER[2])]\n",
    "df_prev_q = df[(df['Usage Period'] >= PREV_QUARTER[0]) & (df['Usage Period'] <= PREV_QUARTER[2])]\n",
    "data_last = df_last_q.groupby('Service Provider')['Value (USD)'].sum().sort_values(ascending=False)\n",
    "data_prev = df_prev_q.groupby('Service Provider')['Value (USD)'].sum().sort_values(ascending=False)\n",
    "    \n",
    "plot_hist(data_prev,data_last,1.0,\"Revenue Distribution - All SPs\")\n",
    "plot_hist(data_prev,data_last,0.1,\"Revenue Distribution - Top 10% SPs\")\n",
    "    \n",
    "total_last = df_last_q['Value (USD)'].sum()\n",
    "print(\"Total SP Count: {}\".format(len(data_last)))\n",
    "print(\"Top {} SPs Contribution: {:.0f}%\".format(10,data_last[:10].sum()/total_last*100))\n",
    "    \n",
    "plt.pie(data_last.values,startangle=90,counterclock=False)\n",
    "plt.title('Revenue Distribution')\n",
    "plt.gcf().set_size_inches(3,3)\n",
    "plt.show()\n"
   ]
  },
  {
   "cell_type": "markdown",
   "metadata": {},
   "source": [
    "### Showcase Partner - Group Companies Revenue Trend"
   ]
  },
  {
   "cell_type": "code",
   "execution_count": null,
   "metadata": {},
   "outputs": [],
   "source": [
    "def partner_rev_trend(group,key='Value (USD)'):\n",
    "    # sort by revenue size at the last month\n",
    "    sp_group = df[df['Partner Group Name'] == group]\n",
    "    sp_sorted = sp_group.groupby('Service Provider')[key].sum().sort_values(ascending=False)\n",
    "\n",
    "    sp_sorted.plot.pie(startangle=90,counterclock=False)\n",
    "    plt.gcf().set_size_inches(6,6)\n",
    "    plt.show() \n",
    "    \n",
    "    # get the series of usage period\n",
    "    index = sp_group.groupby('Usage Period')[key].sum().index\n",
    "    \n",
    "    prev_bar = 0\n",
    "    for sp in sp_sorted.index:\n",
    "        rev_by_period = df[df['Service Provider'] == sp].groupby('Usage Period')[key].sum() \n",
    "        for up in index:\n",
    "            if not up in rev_by_period.keys():\n",
    "                rev_by_period.set_value(up,0.0)\n",
    "        rev_by_period = rev_by_period.sort_index()\n",
    " \n",
    "        plt.bar(rev_by_period.index,rev_by_period.values,width=20,label=sp,bottom=prev_bar)\n",
    "        prev_bar += rev_by_period.values\n",
    "        \n",
    "    format_trend_chart()\n",
    "\n",
    "    plt.title('{} Group Revenue Trend Chart'.format(group))\n",
    "    plt.gcf().set_size_inches(8,6)\n",
    "    plt.show()\n",
    "    \n",
    "partner_rev_trend('NTT','Usage Points')\n",
    "partner_rev_trend('Fujitsu','Usage Points')\n"
   ]
  },
  {
   "cell_type": "markdown",
   "metadata": {},
   "source": [
    "### Revenue Size vs Growth"
   ]
  },
  {
   "cell_type": "code",
   "execution_count": null,
   "metadata": {
    "collapsed": true
   },
   "outputs": [],
   "source": [
    "import size_vs_growth as sg\n",
    "\n",
    "sg.plot(df,\n",
    "     {'type':['GEO','RANK'],\n",
    "      'time_frame': 'LAST_12',\n",
    "      'min_rev_growth':10000,\n",
    "      'show_sp_name':500000})\n",
    "    \n",
    "sg.plot(df[(df['Country']=='Japan')],\n",
    "    {'type':['NO_SLICE'],\n",
    "     'time_frame': 'LAST_12',     \n",
    "     'min_rev_growth':10000,\n",
    "    'show_sp_name':100000})"
   ]
  },
  {
   "cell_type": "code",
   "execution_count": null,
   "metadata": {
    "collapsed": true
   },
   "outputs": [],
   "source": []
  }
 ],
 "metadata": {
  "kernelspec": {
   "display_name": "Python [default]",
   "language": "python",
   "name": "python3"
  },
  "language_info": {
   "codemirror_mode": {
    "name": "ipython",
    "version": 3
   },
   "file_extension": ".py",
   "mimetype": "text/x-python",
   "name": "python",
   "nbconvert_exporter": "python",
   "pygments_lexer": "ipython3",
   "version": "3.6.1"
  }
 },
 "nbformat": 4,
 "nbformat_minor": 2
}
